{
 "cells": [
  {
   "cell_type": "markdown",
   "metadata": {},
   "source": [
    "-The questions you asked\n",
    "\n",
    "My Capstone project will review the 2007-2014 LendingClub data.\n",
    "\n",
    "The initial questions asked: \n",
    "\n",
    "1) How are the LendingClub loans allocated by Grade, Home Ownership, Income, Purpose, State and Term.\n",
    "\n",
    "2) What are the LendingClub default rates by Grade, Home Ownership, Income, Purpose, State and Term. \n",
    "\n",
    "\n",
    "-The trends you investigated\n",
    "\n",
    "The interesting trends in the data are that there is clearly a lower default rate for certain states, loan purposes and 36 month loan terms.\n",
    "\n",
    "-The resulting visualizations and conclusions.\n",
    "\n",
    "The attached jupyter notebooks contain charts with allocation % and default % by the segment mentioned above (Grade, Home Ownership, Income, Purpose, State and Term). \n",
    "\n",
    "The conclusion is that there are clearly borrower types that have lower defaults. \n",
    "\n",
    "Loans to Indiana had defaults close to 7% while those to Alabama had defaults close to 20%. \n",
    "\n",
    "36 month term loans have sharply lower default rates than 60 month term loans. A portfolio of rolling 36 month term loans will outperform a 60 month term loan.\n",
    "\n",
    "Loans with the purpose of small business have very high default rates of 25%.\n",
    "\n",
    "Income is also an indicator of higher default. People making less than $50k have a default rate of 18%. Defaults drop significantly as income rises. Similarly, renters have higher defaults than home owners.\n",
    "\n",
    "I'm still considering how to evaluate this further. With the state data, I may incorporate state economic data to see if there is a relationship between state default rates and unemployment or other macro economic factors.\n",
    "\n",
    "In my next analysis I will also include Grade (or loan percent rate). The higher percent rate may offset the higher defaults for certain segments.\n",
    "\n",
    "\n"
   ]
  }
 ],
 "metadata": {
  "kernelspec": {
   "display_name": "Python 3",
   "language": "python",
   "name": "python3"
  },
  "language_info": {
   "codemirror_mode": {
    "name": "ipython",
    "version": 3
   },
   "file_extension": ".py",
   "mimetype": "text/x-python",
   "name": "python",
   "nbconvert_exporter": "python",
   "pygments_lexer": "ipython3",
   "version": "3.6.3"
  }
 },
 "nbformat": 4,
 "nbformat_minor": 2
}
