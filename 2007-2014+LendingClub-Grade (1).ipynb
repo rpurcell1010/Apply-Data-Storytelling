{
 "cells": [
  {
   "cell_type": "code",
   "execution_count": 1,
   "metadata": {},
   "outputs": [
    {
     "name": "stdout",
     "output_type": "stream",
     "text": [
      "<class 'pandas.core.frame.DataFrame'>\n",
      "Int64Index: 466352 entries, 0 to 42537\n",
      "Data columns (total 50 columns):\n",
      "id                            7 non-null object\n",
      "member_id                     0 non-null float64\n",
      "loan_amnt                     466345 non-null float64\n",
      "funded_amnt                   466345 non-null float64\n",
      "funded_amnt_inv               466345 non-null float64\n",
      "term                          466345 non-null object\n",
      "int_rate                      466345 non-null object\n",
      "installment                   466345 non-null float64\n",
      "grade                         466345 non-null object\n",
      "sub_grade                     466345 non-null object\n",
      "emp_title                     438746 non-null object\n",
      "emp_length                    445327 non-null object\n",
      "home_ownership                466345 non-null object\n",
      "annual_inc                    466341 non-null float64\n",
      "verification_status           466345 non-null object\n",
      "issue_d                       466345 non-null object\n",
      "loan_status                   466345 non-null object\n",
      "pymnt_plan                    466345 non-null object\n",
      "url                           0 non-null float64\n",
      "desc                          125999 non-null object\n",
      "purpose                       466345 non-null object\n",
      "title                         466325 non-null object\n",
      "zip_code                      466345 non-null object\n",
      "addr_state                    466345 non-null object\n",
      "dti                           466345 non-null float64\n",
      "delinq_2yrs                   466316 non-null float64\n",
      "earliest_cr_line              466316 non-null object\n",
      "inq_last_6mths                466316 non-null float64\n",
      "mths_since_last_delinq        215965 non-null float64\n",
      "mths_since_last_record        62649 non-null float64\n",
      "open_acc                      466316 non-null float64\n",
      "pub_rec                       466316 non-null float64\n",
      "revol_bal                     466345 non-null float64\n",
      "revol_util                    466005 non-null object\n",
      "total_acc                     466316 non-null float64\n",
      "initial_list_status           466345 non-null object\n",
      "out_prncp                     466345 non-null float64\n",
      "out_prncp_inv                 466345 non-null float64\n",
      "total_pymnt                   466345 non-null float64\n",
      "total_pymnt_inv               466345 non-null float64\n",
      "total_rec_prncp               466345 non-null float64\n",
      "total_rec_int                 466345 non-null float64\n",
      "total_rec_late_fee            466345 non-null float64\n",
      "recoveries                    466345 non-null float64\n",
      "collection_recovery_fee       466345 non-null float64\n",
      "last_pymnt_d                  465969 non-null object\n",
      "last_pymnt_amnt               466345 non-null float64\n",
      "next_pymnt_d                  42679 non-null object\n",
      "last_credit_pull_d            466304 non-null object\n",
      "collections_12_mths_ex_med    466200 non-null float64\n",
      "dtypes: float64(27), object(23)\n",
      "memory usage: 181.5+ MB\n"
     ]
    }
   ],
   "source": [
    "import glob\n",
    "import pandas as pd\n",
    "\n",
    "path ='/Users/ryanpurcell/Desktop/LendingClub Combined Data/' # use your path\n",
    "allFiles = glob.glob(path + \"/*.csv\")\n",
    "frame = pd.DataFrame()\n",
    "list_ = []\n",
    "for file_ in allFiles:\n",
    "    df = pd.read_csv(file_,index_col=None, header=0,usecols=[*range(0,50)], encoding = \"ISO-8859-1\", low_memory = False,skiprows=[0])\n",
    "    list_.append(df)\n",
    "df= pd.concat(list_)\n",
    "df.info()"
   ]
  },
  {
   "cell_type": "code",
   "execution_count": 105,
   "metadata": {},
   "outputs": [
    {
     "data": {
      "text/plain": [
       "dtype('<M8[ns]')"
      ]
     },
     "execution_count": 105,
     "metadata": {},
     "output_type": "execute_result"
    }
   ],
   "source": [
    "from datetime import datetime, timedelta\n",
    "\n",
    "df['A'] = pd.to_datetime(df['last_pymnt_d'])\n",
    "df['A'].dtypes"
   ]
  },
  {
   "cell_type": "code",
   "execution_count": 106,
   "metadata": {},
   "outputs": [
    {
     "data": {
      "text/plain": [
       "dtype('<M8[ns]')"
      ]
     },
     "execution_count": 106,
     "metadata": {},
     "output_type": "execute_result"
    }
   ],
   "source": [
    "df['B'] = pd.to_datetime(df['issue_d'])\n",
    "df['B'].dtypes"
   ]
  },
  {
   "cell_type": "code",
   "execution_count": 107,
   "metadata": {
    "collapsed": true
   },
   "outputs": [],
   "source": [
    "df['Difference'] = df['A'] - df['B']"
   ]
  },
  {
   "cell_type": "code",
   "execution_count": 108,
   "metadata": {
    "collapsed": true
   },
   "outputs": [],
   "source": [
    "datefilter=df['Difference']<timedelta(days=180)"
   ]
  },
  {
   "cell_type": "code",
   "execution_count": 110,
   "metadata": {},
   "outputs": [
    {
     "data": {
      "text/plain": [
       "grade\n",
       "A    2901\n",
       "B    5818\n",
       "C    6661\n",
       "D    4899\n",
       "E    2645\n",
       "F    1229\n",
       "G     334\n",
       "Name: funded_amnt, dtype: int64"
      ]
     },
     "execution_count": 110,
     "metadata": {},
     "output_type": "execute_result"
    }
   ],
   "source": [
    "#chargoff % within 180 days. Example 50% within 180 days.\n",
    "df[datefilter].groupby('grade')['funded_amnt'].count()"
   ]
  },
  {
   "cell_type": "code",
   "execution_count": 2,
   "metadata": {},
   "outputs": [
    {
     "name": "stdout",
     "output_type": "stream",
     "text": [
      "['B', 'C', 'D', 'A', 'E', 'F', 'G']\n",
      "[0.27, 0.27, 0.17, 0.15, 0.09, 0.04, 0.01]\n"
     ]
    }
   ],
   "source": [
    "#GRADE by FUNDED AMNT\n",
    "a2=(df.pivot_table(index='grade',values='funded_amnt',aggfunc=sum)/df.pivot_table(index='grade',values='funded_amnt',aggfunc=sum).sum()).round(2)\n",
    "c2=a2.reset_index().sort_values('funded_amnt',ascending=False)\n",
    "d2=c2['grade']\n",
    "b2=c2['funded_amnt']\n",
    "print(list(d2))\n",
    "print(list(b2))"
   ]
  },
  {
   "cell_type": "code",
   "execution_count": 3,
   "metadata": {},
   "outputs": [
    {
     "data": {
      "image/png": "[encoded data removed]",
      "text/plain": [
       "<matplotlib.figure.Figure at 0x105c9e668>"
      ]
     },
     "metadata": {},
     "output_type": "display_data"
    }
   ],
   "source": [
    "import matplotlib.pyplot as plt\n",
    " \n",
    "# Data to plot\n",
    "labels = list(d2)\n",
    "sizes = list(b2)\n",
    "colors = ['gold', 'yellowgreen', 'lightcoral', 'lightskyblue']\n",
    "explode = (0.1, 0, 0, 0)  # explode 1st slice\n",
    " \n",
    "# Plot\n",
    "plt.pie(sizes, labels=labels, colors=colors,\n",
    "        autopct='%1.1f%%', shadow=True, startangle=140)\n",
    " \n",
    "plt.axis('equal')\n",
    "plt.show()"
   ]
  },
  {
   "cell_type": "code",
   "execution_count": 4,
   "metadata": {},
   "outputs": [
    {
     "data": {
      "text/html": [
       "<div>\n",
       "<style scoped>\n",
       "    .dataframe tbody tr th:only-of-type {\n",
       "        vertical-align: middle;\n",
       "    }\n",
       "\n",
       "    .dataframe tbody tr th {\n",
       "        vertical-align: top;\n",
       "    }\n",
       "\n",
       "    .dataframe thead th {\n",
       "        text-align: right;\n",
       "    }\n",
       "</style>\n",
       "<table border=\"1\" class=\"dataframe\">\n",
       "  <thead>\n",
       "    <tr style=\"text-align: right;\">\n",
       "      <th></th>\n",
       "      <th>grade</th>\n",
       "      <th>funded_amnt</th>\n",
       "    </tr>\n",
       "  </thead>\n",
       "  <tbody>\n",
       "    <tr>\n",
       "      <th>6</th>\n",
       "      <td>G</td>\n",
       "      <td>0.35</td>\n",
       "    </tr>\n",
       "    <tr>\n",
       "      <th>5</th>\n",
       "      <td>F</td>\n",
       "      <td>0.33</td>\n",
       "    </tr>\n",
       "    <tr>\n",
       "      <th>4</th>\n",
       "      <td>E</td>\n",
       "      <td>0.28</td>\n",
       "    </tr>\n",
       "    <tr>\n",
       "      <th>3</th>\n",
       "      <td>D</td>\n",
       "      <td>0.22</td>\n",
       "    </tr>\n",
       "    <tr>\n",
       "      <th>2</th>\n",
       "      <td>C</td>\n",
       "      <td>0.17</td>\n",
       "    </tr>\n",
       "    <tr>\n",
       "      <th>1</th>\n",
       "      <td>B</td>\n",
       "      <td>0.11</td>\n",
       "    </tr>\n",
       "    <tr>\n",
       "      <th>0</th>\n",
       "      <td>A</td>\n",
       "      <td>0.05</td>\n",
       "    </tr>\n",
       "  </tbody>\n",
       "</table>\n",
       "</div>"
      ],
      "text/plain": [
       "  grade  funded_amnt\n",
       "6     G         0.35\n",
       "5     F         0.33\n",
       "4     E         0.28\n",
       "3     D         0.22\n",
       "2     C         0.17\n",
       "1     B         0.11\n",
       "0     A         0.05"
      ]
     },
     "execution_count": 4,
     "metadata": {},
     "output_type": "execute_result"
    }
   ],
   "source": [
    "#Charge Off Probability\n",
    "Total=df.groupby(['grade'])['funded_amnt'].count()\n",
    "df1=df[(df.loan_status=='Charged Off')]\n",
    "df2=df1.groupby(['grade'])['funded_amnt'].count()\n",
    "df3=(df2/Total).round(2)\n",
    "df4=df3.reset_index()\n",
    "df4=df4.sort_values(by=['funded_amnt'],ascending = False)\n",
    "purpose = df4['grade']\n",
    "CO=df4['funded_amnt']\n",
    "df4\n",
    "#find out how to name the columns\n",
    "#sort by default"
   ]
  },
  {
   "cell_type": "code",
   "execution_count": 6,
   "metadata": {},
   "outputs": [
    {
     "data": {
      "image/png": "[encoded data removed]",
      "text/plain": [
       "<matplotlib.figure.Figure at 0x10d3532e8>"
      ]
     },
     "metadata": {},
     "output_type": "display_data"
    }
   ],
   "source": [
    "import matplotlib.pyplot as plt\n",
    "import numpy as np\n",
    "\n",
    "# Fixing random state for reproducibility\n",
    "#np.random.seed(19680801)\n",
    "\n",
    "plt.rcdefaults()\n",
    "fig, ax = plt.subplots()\n",
    "\n",
    "# Example data\n",
    "people = purpose\n",
    "y_pos = np.arange(len(people))\n",
    "performance = CO\n",
    "error = np.random.rand(len(people))\n",
    "\n",
    "ax.barh(y_pos, performance, color = 'green', )#xerr=error, align='center')\n",
    "        #color='green',ecolor='black')\n",
    "ax.set_yticks(y_pos)\n",
    "ax.set_yticklabels(people)\n",
    "ax.invert_yaxis()  # labels read top-to-bottom\n",
    "ax.set_xlabel('Default Rate')\n",
    "#ax.set_title('Default Rate by Grade')\n",
    "ax.set_xlim(0,.4)\n",
    "\n",
    "plt.show()"
   ]
  },
  {
   "cell_type": "code",
   "execution_count": null,
   "metadata": {
    "collapsed": true
   },
   "outputs": [],
   "source": []
  }
 ],
 "metadata": {
  "kernelspec": {
   "display_name": "Python 3",
   "language": "python",
   "name": "python3"
  },
  "language_info": {
   "codemirror_mode": {
    "name": "ipython",
    "version": 3
   },
   "file_extension": ".py",
   "mimetype": "text/x-python",
   "name": "python",
   "nbconvert_exporter": "python",
   "pygments_lexer": "ipython3",
   "version": "3.6.3"
  }
 },
 "nbformat": 4,
 "nbformat_minor": 2
}
